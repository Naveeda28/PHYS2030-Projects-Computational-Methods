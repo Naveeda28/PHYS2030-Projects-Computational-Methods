{
 "cells": [
  {
   "cell_type": "markdown",
   "metadata": {},
   "source": [
    "Naveeda Ali\n",
    "<br>\n",
    "Due date: Jan. 16, 2024, 11:59pm\n",
    "<br>\n",
    "PHYS 2030 W24"
   ]
  },
  {
   "cell_type": "markdown",
   "metadata": {},
   "source": [
    "## <center><font color=#46769B>Homework assignment 1</font></center>\n",
    "\n",
    "__Rubric (100 points total)__:\n",
    "\n",
    "- Problem 1 - __25 points__\n",
    "     \n",
    "- Problem 2 - __25 points__\n",
    "\n",
    "- Problem 3 - __25 points__\n",
    "     \n",
    "- Problem 4 - __25 points__"
   ]
  },
  {
   "cell_type": "markdown",
   "metadata": {},
   "source": [
    "## <font color=#46769B>Introduction:</font>\n",
    "\n",
    "Required reading:\n",
    "- *Lesson 1: Introduction to Monte Carlo sampling*\n",
    "- *Lesson 2: Normal distributions*\n",
    "</font>"
   ]
  },
  {
   "cell_type": "markdown",
   "metadata": {},
   "source": [
    "## <font color=#46769B>Problem 1: Area of a circle revisited, error on $\\pi$</font>\n",
    "\n",
    "We return to computing the $\\pi$ from our Monte Carlo simulation in Exercise 1. \n",
    "You noticed that your answer was close to the accepted value for $\\pi$, but was not exact and changes each time you run your code. This is a fact of life for Monte Carlo simulations: it is inherently random.\n",
    "\n",
    "Suppose you want to calculate $\\pi$ to within an accuracy of $0.001$. The simple way to approach it is to simply increase $N$, rerunning your code over and over again until you notice the numbers are jumping around less than the desired accuracy.\n",
    "\n",
    "Here we will follow a better and more quantitative approach in which we calculate the uncertainty on our result *directly from our sample* as the __standard error of the mean__. Then, we simply choose a suitably large $N$ so that the standard error of the mean falls below the desired level.\n",
    "\n",
    "Let's introduce a new variable $z$, which will make the connection with the standard error of the mean (hopefully) more clear. We define $z$ as follows:\n",
    "- $z = 1$ if point $x,y$ is within the unit circle\n",
    "- $z = 0$ if point $x,y$ is outside the unit circle\n",
    "\n",
    "Note that $p$ is the probability that $z=1$ (inside the circle) and $1-p$ is the probability that $z=0$ (outside the circle). That is, $z$ is has a Bernoulli PDF, just like flipping a coin:\n",
    "\n",
    "$$P(z) = \\left\\{ \\begin{array}{cc} p & z = 1 \\\\ 1-p & z = 0 \\end{array}\\right. \\, .$$\n",
    "\n",
    "(In the lecture notes, we wrote this distribution as $P(x)$. Here the variable $x$ is position in the $x$ direction, so we need a new variable name for the outcome of each \"coin flip.\")\n",
    "\n",
    "What we calculated before as $N_{\\rm in}/N$ is simply the mean of $z$:\n",
    "\n",
    "$$ \\langle z \\rangle = \\frac{N_{\\rm in}}{N} \\xrightarrow{N \\to \\infty} \\bar{z} = p$$\n",
    "\n",
    "We can also calculate the variance $\\Delta z$ and the standard error of the mean $E_z = \\Delta z/\\sqrt{N}$.\n",
    "\n",
    "Now, our estimate for $\\pi$ is\n",
    "\n",
    "$$\\pi \\approx 4 \\langle z \\rangle \\, ,$$\n",
    "\n",
    "So the standard error of the mean of $\\pi$ is simply four times the standard error of the mean of $z$:\n",
    "\n",
    "$$E_\\pi = 4 E_z = 4 \\frac{\\Delta z}{\\sqrt{N}} \\, .$$\n",
    "\n",
    "Define a function `estimate_pi(num)` that does the following:\n",
    "- Generates `num` samples for $x$ and $y$ from a uniform distribution, as in Part (a). (Here `num` is the number of samples $N$.)\n",
    "- From your samples for $x,y$, obtain samples for $z$. (That is, from each sample $x_i,y_i$, you decide if $z_i$ is $1$ or $0$.)\n",
    "- Calculate the mean, standard deviation, and standard error of the mean for $z$.\n",
    "- Returns your estimate for $\\pi$ and the error $E_\\pi$.\n",
    "\n",
    "Evaluate your function and print your results $\\pi$ and $E_\\pi$, with a suitable value of $N$ such that $E_\\pi$ is below $0.001$. "
   ]
  },
  {
   "cell_type": "code",
   "execution_count": 1,
   "metadata": {},
   "outputs": [
    {
     "data": {
      "text/plain": [
       "(3.1424602409122087, 0.0018185533801575282)"
      ]
     },
     "execution_count": 1,
     "metadata": {},
     "output_type": "execute_result"
    }
   ],
   "source": [
    "import numpy as np\n",
    "#NOTE: Some parts of assignment will take a while to run\n",
    "\n",
    "#Set N (number of samples) to 12^6 for small error \n",
    "num = 12**6\n",
    "\n",
    "#Define function estimate_pi\n",
    "def estimate_pi(num):\n",
    "    #Set z to an array of zeroes with length num\n",
    "    z = np.zeros(num)\n",
    "    for i in range(num):\n",
    "        #Sample x values from uniform distribution (-1 to 1)\n",
    "        x = np.random.uniform(-1,1)\n",
    "        #Sample y values from uniform distribution (-1 to 1)\n",
    "        y = np.random.uniform(-1,1)\n",
    "        #If x and y values fall within unit circle then z=1, otherwise array value will stay z=0\n",
    "        if (x**2 + y**2) <=1:\n",
    "            z[i] = 1 \n",
    "    #Calculate mean of z         \n",
    "    mean_z = (np.mean(np.sum(z)))/(i+1)\n",
    "    #Calculate error on z \n",
    "    er_z = (np.sum(z)/np.sqrt(num))/(i+1)\n",
    "    #Calculate standard deviation of z\n",
    "    stddev_z = np.sqrt(er_z)\n",
    "    #Calculate pi using mean of z\n",
    "    pi = 4*(mean_z)\n",
    "    #Calculate error on pi by using error on z\n",
    "    er_pi = (4*er_z)\n",
    "    #Return pi and error on pi\n",
    "    return pi, er_pi\n",
    "\n",
    "#Call on function estimate_pi() for num samples\n",
    "estimate_pi(num)\n"
   ]
  },
  {
   "cell_type": "markdown",
   "metadata": {},
   "source": [
    "## <font color=#46769B>Problem 2: Buffon's needle experiment for estimating $\\pi$</font>\n",
    "\n",
    "__Buffon's needle__ is another classic problem in Monte Carlo sampling, originally posed by the 18th century naturalist and mathematician George-Louis Leclerc. The problem is as follows:\n",
    "> Suppose you drop needles of length $\\ell$ at random onto a floor that has a series of equidistant parallel lines, with separation distance $d$. Provided $\\ell \\le d$, the probability that a needle will cross a line on the floor is\n",
    "\n",
    "$$p = \\frac{2\\ell}{\\pi d} \\, . \\qquad {\\rm (1)} $$\n",
    "\n",
    "We will *not* prove this result analytically. (Proofs can be found online for the curious reader.) \n",
    "\n",
    "<img src=\"https://mathworld.wolfram.com/images/eps-svg/BuffonNeedle_700.svg\" width=350px>\n",
    "\n",
    "[Figure credit: Wolfram Mathworld](https://mathworld.wolfram.com/BuffonsNeedleProblem.html)\n",
    "\n",
    "Here we will use this result to calculate $\\pi$ using a Monte Carlo simulation with $N$ total needles dropped. For simplicity, we will set $\\ell = d = 1$. By counting the number of needles that cross a line, $N_{\\rm cross}$, the probability $p$ is approximately $N_{\\rm cross}/N$ in the limit that $N$ is large. Therefore, rearranging Eq. (1), we have \n",
    "\n",
    "$$\\pi \\approx \\frac{2 N}{N_{\\rm cross}} \\, . \\qquad {\\rm (2)} $$\n",
    "\n",
    "Now, how do we simulate dropping a needle? Let's give some hints. Consider the figure below, showing a needle (thick black line) dropped near lines at $x=0$ and $x=1$. \n",
    "\n",
    "<img src=\"https://drive.google.com/uc?export=view&id=1zV1emttZcLRRVRu6T4yt4vorjyzAjmcZ\" width=350px>\n",
    "\n",
    "First, let $(x_1,y_1)$ be the position of one side. The figure below assumes that $0 < x_1 < 1$. In fact, this is the most general case we need to consider. Since $x_1$ will be between *some* pair of lines, we are free to label those two lines $x=0$ and $x=1$.\n",
    "\n",
    "Next, let $(x_2,y_2)$ be the position of the other side. Using some trigonometry\n",
    "\n",
    "$$(x_2,y_2) = (x_1 + \\cos\\theta, \\, y_1 + \\sin\\theta)\\, .$$\n",
    "\n",
    "Now, depending on the angle $\\theta$, we can have a line crossing or not. There is no line crossing if $0 < x_2 < 1$, while on the other hand there is a line crossing if $x_2 < 0$ or $x_2 > 1$. \n",
    "\n",
    "The needle can have any orientation, so any angle $\\theta$ is allowed. Since we expect all orientations to be equally likely, we should sample $\\theta$ from a uniform distribution.\n",
    "\n",
    "Lastly, $y_1$ and $y_2$ are irrelevant, since we don't need to know them.\n",
    "\n",
    "Now, let's summarize how to implement the sampling. \n",
    "- Generate $N$ samples for $x_1$ from a uniform distribution between $0$ and $1$. (We may as well call $x_1$ as just $x$ here, and drop the extra subscript.)\n",
    "- Generate $N$ samples for $\\theta$ from a uniform distribution between $0$ and $2\\pi$.\n",
    "- For each sample $x_i$ and $\\theta_i$, check whether a line crossing has occurred: either\n",
    "\n",
    "$$ x_i + \\cos\\theta_i < 0 \\quad {\\rm or} \\quad x_i + \\cos\\theta_i > 1$$\n",
    "\n",
    "- Count the number of samples with a line crossing $N_{\\rm cross}$.\n",
    "- Calculate $\\pi$ from Eq. (3)\n",
    "\n",
    "Your task is to write a code implementing the above steps, for $N=10^3$."
   ]
  },
  {
   "cell_type": "code",
   "execution_count": 2,
   "metadata": {},
   "outputs": [
    {
     "name": "stdout",
     "output_type": "stream",
     "text": [
      "3.1595576619273302\n"
     ]
    }
   ],
   "source": [
    "import numpy as np\n",
    "\n",
    "#Set N (number of samples) to 10^3\n",
    "num = 10**3\n",
    "#Set counter for number of line crossings to zero\n",
    "N_cross = 0\n",
    "\n",
    "for i in range(num):\n",
    "    #Generate values for x from uniform distribution (0,1)\n",
    "    x = np.random.uniform(0,1)\n",
    "    #Generate values for pi from uniform distribution (0, 2*pi)\n",
    "    pi_samples = np.random.uniform(0, np.pi*2)\n",
    "    #If line crossing has happened in for following x(i) and pi(i) then count is added to N_cross\n",
    "    if (x+np.cos(pi_samples)) < 0 or (x+np.cos(pi_samples)) > 1:\n",
    "        N_cross = N_cross + 1\n",
    "        \n",
    "#Estimate for pi is calculated from Eq. 2\n",
    "pi_estimate = (2*num)/N_cross\n",
    "print(pi_estimate)\n",
    "\n"
   ]
  },
  {
   "cell_type": "markdown",
   "metadata": {},
   "source": [
    "## <font color=#46769B>Problem 3: Buffon's needle continued, error on $\\pi$</font>\n",
    "\n",
    "Write a function `drop_needles(num)` that does the sampling you performed in Problem 2 and returns both $\\pi$ and $E_\\pi$, the error for $\\pi$. Here the input `num` is $N$, the number of samples in your simulation, i.e., the number of needles dropped in the Buffon needle experiment.\n",
    "\n",
    "Suppose we want to calculate $\\pi$ to within an accuracy of $0.001$. What value of $N$ is required?\n",
    "\n",
    "Hint: Let's follow a similar logic to Problem 1 above. We introduce a discrete variable $z$ that is either $z=1$ if the needle crosses a line, or $z=0$ if there is no crossing. Then we can calculate $\\pi$ from the mean value of $z$, from Eq. (2): \n",
    "\n",
    "$$\\pi \\approx \\frac{2}{\\langle z \\rangle} \\, . \\qquad (3)$$\n",
    "\n",
    "The standard error on the mean of $z$ is calculated in the usual way\n",
    "\n",
    "$$E_z = \\frac{\\Delta z}{\\sqrt{N}} \\, .$$\n",
    "\n",
    "Finally, we can calculate the error $E_\\pi$ from the following formula\n",
    "\n",
    "$$E_\\pi = \\frac{2 E_z}{\\langle z \\rangle^2} \\, . \\qquad (4)$$\n",
    "\n",
    "To summarize, the task of your function is as follows:\n",
    "- Generate $N$ samples for $x$ and $\\theta$, as in Part (a).\n",
    "- Use these samples to calculate the samples for $z$ (similar to Exercise 1).\n",
    "- Calculate the mean and standard error of the mean of $z$.\n",
    "- Return $\\pi$ and $E_\\pi$, using Eqs. (3) and (4).\n",
    "\n",
    "Note to the curious reader: Where did Eq. (4) come from? It may look mysterious, but it follows from a topic in statistics known as __propagation of uncertainties__, a topic which we are going to come back to. Here let's provide a quick proof of Eq. (4). \n",
    "\n",
    "The question is: how the error on $\\langle z \\rangle$, $E_z$, impact $\\pi$? We quantify this by asking: what happens to $\\pi$ if we perturb $\\langle z \\rangle$ by its error $\\pm E_z$? Shifting $\\langle z \\rangle \\to \\langle z \\rangle \\pm E_z$, we have\n",
    "\n",
    "$$\\pi = \\frac{2}{\\langle z \\rangle} \\longrightarrow \\frac{2}{\\langle z \\rangle \\pm E_z}\n",
    "= \\frac{2}{\\langle z \\rangle} \\times \\left(1 \\pm \\frac{E_z}{\\langle z\\rangle} \\right)^{-1}$$\n",
    "\n",
    "Now, we can use an approximation that you may recall from your calculus course, $(1+a)^n \\approx 1 + n a$, if $a$ is a small number ($a \\ll 1$). Here $a$ is $\\pm E_z/\\langle z \\rangle$ and $n=-1$. Then the above line becomes\n",
    "\n",
    "$$\\pi = \\frac{2}{\\langle z \\rangle} \\longrightarrow \\frac{2}{\\langle z\\rangle} \\mp \\left(\\frac{2E_z}{\\langle z\\rangle^2}\\right) = \\pi \\mp \\left(\\frac{2E_z}{\\langle z\\rangle^2}\\right) \\, .$$\n",
    "\n",
    "The factor in parentheses is the error $E_\\pi$, as in Eq. (4).\n"
   ]
  },
  {
   "cell_type": "code",
   "execution_count": 3,
   "metadata": {},
   "outputs": [
    {
     "data": {
      "text/plain": [
       "(3.14051459069231, 0.0018174274251691613)"
      ]
     },
     "execution_count": 3,
     "metadata": {},
     "output_type": "execute_result"
    }
   ],
   "source": [
    "import numpy as np\n",
    "\n",
    "#Set N(number of samples) to 12^6 for small error\n",
    "num = 12**6\n",
    "\n",
    "#Define function drop_needles(num)\n",
    "def drop_needles(num):\n",
    "    #Set z to an array of zeroes with length of num\n",
    "    z = np.zeros(num)\n",
    "    for i in range(num):\n",
    "        #Generate values for x from uniform distribution(0,1)\n",
    "        x = np.random.uniform(0,1)\n",
    "        #Generate values for pi from uniform distribution(0,2*pi)\n",
    "        pi_samples = np.random.uniform(0, np.pi*2)\n",
    "        #If line crossing has occured for following x(i) and pi(i) values then z(i) = 1, otherwise z(i) = 0 (stays zero)\n",
    "        if (x+np.cos(pi_samples)) < 0 or (x+np.cos(pi_samples)) > 1:\n",
    "            z[i] = 1\n",
    "    #Calculate mean of z\n",
    "    mean_pi = (np.mean(np.sum(z)))\n",
    "    #Calculate estimate of pi from mean of z\n",
    "    pi_estimate = (2/mean_pi)*(i+1)\n",
    "    #Calculate error on z\n",
    "    E_z = (np.sum(z)/np.sqrt(num))\n",
    "    #Calcukate error on pi from error on z\n",
    "    E_pi = ((2*E_z)/(mean_pi**2))*(i+1)\n",
    "    return pi_estimate, E_pi\n",
    "\n",
    "#Call on function drop_needles() for num samples\n",
    "drop_needles(num)\n",
    "        \n",
    " \n",
    "    "
   ]
  },
  {
   "cell_type": "markdown",
   "metadata": {},
   "source": [
    "## <font color=#46769B>Problem 4: Sampling from normal distributions</font>\n",
    "\n",
    "Write a code that performs the following tasks:\n",
    "- Generate $N = 10^4$ samples for $x$ from a normal distribution $\\mathcal{N}(\\mu,\\sigma)$, where $\\mu = 3$ and $\\sigma = 1$.\n",
    "- Calculate and print the mean $\\langle x \\rangle$ and standard deviation $\\Delta x$, and compare to $\\mu$ and $\\sigma$.\n",
    "- Make a histogram plot for your samples for $x$ using `matplotlib.pyplot.hist()`.\n",
    "- On the same plot, plot the normal PDF $\\mathcal{N}(\\mu,\\sigma)$ as a function of $x$. \n",
    "\n",
    "For your plot:\n",
    "- Label your plot with a legend and axis labels\n",
    "- Choose the number of histogram bins appropriately\n",
    "- Normalized the histogram correctly so that your PDF and histogram are in good agreement (set `density=True`)\n"
   ]
  },
  {
   "cell_type": "code",
   "execution_count": 4,
   "metadata": {},
   "outputs": [
    {
     "name": "stdout",
     "output_type": "stream",
     "text": [
      "The mean of samples for x is 2.9968127813693783 while mu of the normal distribution is 3.\n",
      "The standard deviation of samples for x is 0.9953140297094597 while sigma of the normal distribution is 1.\n"
     ]
    },
    {
     "data": {
      "image/png": "[encoded data removed]",
      "text/plain": [
       "<Figure size 640x480 with 1 Axes>"
      ]
     },
     "metadata": {},
     "output_type": "display_data"
    }
   ],
   "source": [
    "import matplotlib.pyplot as plt\n",
    "import numpy as np\n",
    "\n",
    "#Set N (number of samples) to 10^4\n",
    "num = 10**4\n",
    "#Set mu of normal distribution to 3\n",
    "mu = 3\n",
    "#Set sigma of normmal distribution to 1\n",
    "sigma = 1\n",
    "#Generate random samples for x from normal distribution(mu, sigma)\n",
    "x = np.random.normal(mu, sigma, num)\n",
    "\n",
    "#Calculate mean of samples for x\n",
    "mean_x = np.mean(x)\n",
    "#Calculate standard deviation of samples for x\n",
    "std_x = np.std(x)\n",
    "\n",
    "print('The mean of samples for x is', mean_x, 'while mu of the normal distribution is 3.')\n",
    "print('The standard deviation of samples for x is', std_x, 'while sigma of the normal distribution is 1.')\n",
    "\n",
    "#Plot histogram  for randomly sampled x values generated from normal distribution(mu,sigma)\n",
    "plt.hist(x, bins=30, density=True, alpha=0.7, label=\"Histogram of Random Samples of x\")\n",
    "\n",
    "#Generate values for x axis for normal PDF equation\n",
    "xi = np.linspace(0, 6, num) \n",
    "#Calculate values for y from normal PDF equation \n",
    "N = 1 / np.sqrt(2 * np.pi * sigma**2) * np.exp(-0.5 * (xi - mu)**2 / sigma**2)  # Use xi instead of x here\n",
    "#Plot x and y values for bell-shaped normal distribution curve\n",
    "plt.plot(xi, N, label='Normal Distribution Curve')\n",
    "\n",
    "#Set x axis limits on graph\n",
    "plt.xlim([0, 6])\n",
    "#Set y axis limits on graph\n",
    "plt.ylim([0, 0.40])\n",
    "\n",
    "#Plot title of graph\n",
    "plt.title('Histogram for Samples of x and Normal Distribution')\n",
    "#Plot x axis label\n",
    "plt.xlabel('x')\n",
    "#Plot y axis label \n",
    "plt.ylabel('Probability Density')\n",
    "#Plot legend elements\n",
    "plt.legend()\n",
    "\n",
    "#Display the plot\n",
    "plt.show()\n",
    "\n"
   ]
  },
  {
   "cell_type": "code",
   "execution_count": null,
   "metadata": {},
   "outputs": [],
   "source": []
  }
 ],
 "metadata": {
  "kernelspec": {
   "display_name": "Python 3 (ipykernel)",
   "language": "python",
   "name": "python3"
  },
  "language_info": {
   "codemirror_mode": {
    "name": "ipython",
    "version": 3
   },
   "file_extension": ".py",
   "mimetype": "text/x-python",
   "name": "python",
   "nbconvert_exporter": "python",
   "pygments_lexer": "ipython3",
   "version": "3.11.5"
  }
 },
 "nbformat": 4,
 "nbformat_minor": 4
}
