{
 "cells": [
  {
   "cell_type": "markdown",
   "metadata": {},
   "source": [
    "__Double-click to write your name here__\n",
    "<br>\n",
    "Due date: Apr. 2, 2024, 11:59pm\n",
    "<br>\n",
    "PHYS 2030 W24"
   ]
  },
  {
   "cell_type": "markdown",
   "metadata": {},
   "source": [
    "# <center><font color=#46769B>Exercise 11: Signal processing</font></center>\n",
    "\n",
    "# <center><font color=#46769B>Homework assignment 10</font></center>\n",
    "\n",
    "__Rubric (100 points total)__:\n",
    "\n",
    "- Problem 1a - __10 points__\n",
    "\n",
    "- Problem 1b - __30 points__\n",
    "\n",
    "- Problem 2a - __20 points__\n",
    "\n",
    "- Problem 2b - __20 points__\n",
    "\n",
    "- Problem 2c - __20 points__\n",
    "\n",
    "\n",
    "</font>\n",
    "\n",
    "The goals of this exercise are:\n",
    "\n",
    "- Learn about spectrograms\n",
    "\n",
    "- Gain familiarity with `scipy.signal` library\n",
    "\n",
    "- Gain familiarity with inverse DFT and filtering\n",
    "\n",
    "Required reading:\n",
    "\n",
    "- *Lesson 11: Discrete Fourier Transform*\n"
   ]
  },
  {
   "cell_type": "markdown",
   "metadata": {},
   "source": [
    "## <font color=#46769B>Problem 1: Spectrograms</font>\n",
    "\n",
    "### <font color=#46769B>Introduction</font>\n",
    "\n",
    "Discrete Fourier Transform (DFT) allows us to work in the frequency domain to identify periodic signals in data samples. However, if we take the DFT over the entire time interval, this is at the expense of obscuring any time information in the data. In some situations, we wish to consider *both* time and frequency information. Music is an example: we would want to know not only which frequencies (notes) arise, but also *when* they occur.\n",
    "\n",
    "The solution to this problem is known as __Short-time Fourier Transform__. Suppose our full time interval of our samples spans the range $[t_0,t_f]$. The strategy is:\n",
    "\n",
    "- Divide your full samples into $Q$ smaller segments, each spanning a small time interval. For example:\n",
    "$$[t_0,t_1], \\quad [t_1, t_2], \\quad [t_2,t_3] , \\quad ... , \\quad [t_{Q-1},t_Q]\\, ,$$\n",
    "where $t_Q = t_f$ is the final time. If there are $N$ total samples, then we have $M = N/Q$ samples for each segment. (We choose $q$ such that $M$ is an integer.)\n",
    "\n",
    "- For each segment, take the DFT to calculate the Fourier coefficients $c_k$ and compute the power spectrum $|c_k|^2$.\n",
    "\n",
    "- After looping through all the time segments, we now have a 2D $Q \\times M$ array containing all the power spectra as a function of time (i.e., for each time segment in succession). This 2D array is the __spectrogram__.\n",
    "\n",
    "The spectrogram is often visualized using a heatmap plot, with time plotted on the $x$-axis and frequency plotted on the $y$-axis, with brighter colors indicating where there is more power at a given frequency and time. \n",
    "\n",
    "There is a wonderful online tool you can explore [here](https://musiclab.chromeexperiments.com/spectrogram/). Playing around with this will give you a great idea of what a spectrogram is (though the spectrograms we will create will not be animations).\n",
    "\n",
    "There is a trade-off between frequency and time:\n",
    "\n",
    "- If we want high resolution in time, we want many small segments to be sensitive to rapid variations on small time scales. However, the number of samples per segment is also small, which limits the number of frequencies that can be accessed.\n",
    "\n",
    "- If we want high resolution in frequency, we want larger segments to have more frequencies available, which implies that the time-resolution will be coarser.\n",
    "\n",
    "This limitation is familiar from the Heisenberg Uncertainty Principle (referred to as the __Gabor limit__ in signal processing). \n",
    "\n",
    "In this problem, you will take a sound file of a [flute playing an F-major scale](https://github.com/PHYS-2030-Computational-Methods/Lecture-notes/blob/main/data/flute-f-major.wav?raw=true) (attribution: <a href=\"https://freesound.org/people/MTG/sounds/355023/\">MTG</a>). \n",
    "\n",
    "Run the following cell, which does the following:\n",
    "\n",
    "- Load this file and save the sound wave as a `numpy.array`, which will provide our samples $f_n$ (time series data). Loading the sound file also yields the sampling rate, $h^{-1}$, which is inversely related to the step size $h$. With $h$, we can extract the sampling times $t_n$. \n",
    "\n",
    "- Make a plot our time series data (or samples) vs the sampling times.\n",
    "\n",
    "\n"
   ]
  },
  {
   "cell_type": "code",
   "execution_count": 1,
   "metadata": {},
   "outputs": [
    {
     "data": {
      "image/png": "[encoded data removed]",
      "text/plain": [
       "<Figure size 432x288 with 1 Axes>"
      ]
     },
     "metadata": {
      "needs_background": "light"
     },
     "output_type": "display_data"
    }
   ],
   "source": [
    "import numpy as np\n",
    "import matplotlib.pyplot as plt\n",
    "from scipy import signal\n",
    "\n",
    "import urllib.request\n",
    "import soundfile\n",
    "\n",
    "path = \"https://github.com/PHYS-2030-Computational-Methods/Lecture-notes/blob/main/data/flute-f-major.wav?raw=true\"\n",
    "tmp_file = urllib.request.urlretrieve(path)[0]\n",
    "data, sample_rate = soundfile.read(tmp_file)\n",
    "\n",
    "fn = data\n",
    "N = len(fn)\n",
    "tn = np.array(range(N))/sample_rate\n",
    "\n",
    "plt.plot(tn,fn,label='Flute F-major scale')\n",
    "plt.xlabel('t (sec)')\n",
    "plt.ylabel('wave amplitude')\n",
    "plt.legend(loc='upper left')\n",
    "plt.show()"
   ]
  },
  {
   "cell_type": "markdown",
   "metadata": {},
   "source": [
    "The `scipy.signal` library has lots of built-in functions related to signal processing. We will explore some of them in this exercise. There is `scipy.signal.spectrogram()` that can automatically calculate the spectrogram. Here is how it [works](https://docs.scipy.org/doc/scipy/reference/generated/scipy.signal.spectrogram.html#scipy.signal.spectrogram).\n",
    "\n",
    "First, we calculate the spectrogram. The inputs here are:\n",
    "\n",
    "- The samples `fn` and the sampling rate $h^{-1}$.\n",
    "\n",
    "- `nperseg` is the number of samples per segment, which I labeled as $M$ above.\n",
    "\n",
    "- The [window function](https://docs.scipy.org/doc/scipy/reference/generated/scipy.signal.get_window.html#scipy.signal.get_window) used for calculating the Fourier coefficients. Below I used the *Hann* window function.\n",
    "\n",
    "- `noverlap` is the number of overlapping samples from one segment to the next. In the logic I sketched above, I began one segment where the previous segment ended. But this is not required: segments can overlap. However, I neglect overlap here by taking `noverlap=0`.\n",
    "\n",
    "The outputs are: \n",
    "\n",
    "- The frequencies, $\\nu_k$, for each corresponding Fourier mode.\n",
    "\n",
    "- The segment times (the mean time for each segment)\n",
    "\n",
    "- The power spectrum as a function of frequency and time.\n",
    "\n",
    "Next, we make the plot using `matplotlib.pyplot.pcolormesh` to make a heatmap plot. Some points that are useful:\n",
    "\n",
    "- I plot the log (base 10) of the power, not the power itself. This helps visualize powers that vary by orders of magnitude from each other.\n",
    "\n",
    "- The keywords `vmin` and `vmax` allow you to adjust the lower and upper scale of the color. Values below `vmin` will be completely dark and values above `vmax` will be saturated.\n",
    "\n",
    "In this example, I take $M=4800$ by setting `nperseg=4800`. This value was chosen to cleanly divide the total number of samples $N$, but `signal.spectrogram` is smart enough to handle any value. In this data $N=1228800$, so $Q=1228800/4800=256$ is the number of time values in the spectrogram.\n",
    "\n",
    "Feel free to play around with the different parameters here. Adjust `nperseg` to be smaller or larger and see what the effect is. If you have larger `nperseg`, then you get better resolution in frequency but worse resolution in time. Smaller `nperseg` is the opposite.\n",
    "\n",
    "Listen to the sound file as you stare at the spectrogram. The steps going up and down are the notes going up and down. Note there are multiple sets of steps since each flute note consists of a fundamental frequency (the lowest note) and higher harmonics which are integer multiples of that frequency (see Exercise 11).\n",
    "\n"
   ]
  },
  {
   "cell_type": "code",
   "execution_count": 2,
   "metadata": {},
   "outputs": [
    {
     "data": {
      "image/png": "[encoded data removed]",
      "text/plain": [
       "<Figure size 576x432 with 1 Axes>"
      ]
     },
     "metadata": {
      "needs_background": "light"
     },
     "output_type": "display_data"
    }
   ],
   "source": [
    "# Here is one line of code to calculate the spectrogram\n",
    "\n",
    "freq, time, power_spec = signal.spectrogram(fn, sample_rate, nperseg=4800, window='hann', noverlap=0)\n",
    "\n",
    "# Plot the spectrogram\n",
    "plt.figure(figsize=(8,6))\n",
    "\n",
    "plt.pcolormesh(time, freq, np.log10(power_spec), vmin=-7.5, vmax=-4.5)\n",
    "\n",
    "plt.ylabel('frequency [Hz]')\n",
    "plt.xlabel('time [sec]')\n",
    "plt.ylim([200,2500])\n",
    "plt.title('Flute F-major scale')\n",
    "plt.show()"
   ]
  },
  {
   "cell_type": "markdown",
   "metadata": {},
   "source": [
    "### <font color=#46769B>Part (a) </font>\n",
    "\n",
    "Generate the same spectrogram as above but with a *rectangular window function*. You should see evidence for spectral leakage. (Hint: look in the `scipy.signal` documentation to see how to implement this window function.)"
   ]
  },
  {
   "cell_type": "code",
   "execution_count": 1,
   "metadata": {},
   "outputs": [
    {
     "ename": "ModuleNotFoundError",
     "evalue": "No module named 'soundfile'",
     "output_type": "error",
     "traceback": [
      "\u001b[1;31m---------------------------------------------------------------------------\u001b[0m",
      "\u001b[1;31mModuleNotFoundError\u001b[0m                       Traceback (most recent call last)",
      "Cell \u001b[1;32mIn[1], line 7\u001b[0m\n\u001b[0;32m      5\u001b[0m \u001b[38;5;28;01mfrom\u001b[39;00m \u001b[38;5;21;01mscipy\u001b[39;00m \u001b[38;5;28;01mimport\u001b[39;00m signal\n\u001b[0;32m      6\u001b[0m \u001b[38;5;28;01mimport\u001b[39;00m \u001b[38;5;21;01murllib\u001b[39;00m\u001b[38;5;21;01m.\u001b[39;00m\u001b[38;5;21;01mrequest\u001b[39;00m\n\u001b[1;32m----> 7\u001b[0m \u001b[38;5;28;01mimport\u001b[39;00m \u001b[38;5;21;01msoundfile\u001b[39;00m\n\u001b[0;32m      9\u001b[0m \u001b[38;5;66;03m# Load the sound file\u001b[39;00m\n\u001b[0;32m     10\u001b[0m path \u001b[38;5;241m=\u001b[39m \u001b[38;5;124m\"\u001b[39m\u001b[38;5;124mhttps://github.com/PHYS-2030-Computational-Methods/Lecture-notes/blob/main/data/flute-f-major.wav?raw=true\u001b[39m\u001b[38;5;124m\"\u001b[39m\n",
      "\u001b[1;31mModuleNotFoundError\u001b[0m: No module named 'soundfile'"
     ]
    }
   ],
   "source": [
    "# Your code for part (a) here\n",
    "\n",
    "import numpy as np\n",
    "import matplotlib.pyplot as plt\n",
    "from scipy import signal\n",
    "import urllib.request\n",
    "import soundfile\n",
    "\n",
    "# Load the sound file\n",
    "path = \"https://github.com/PHYS-2030-Computational-Methods/Lecture-notes/blob/main/data/flute-f-major.wav?raw=true\"\n",
    "tmp_file = urllib.request.urlretrieve(path)[0]\n",
    "data, sample_rate = soundfile.read(tmp_file)\n",
    "\n",
    "# Data setup\n",
    "fn = data\n",
    "nperseg = 4800  # Number of samples per segment\n",
    "\n",
    "# Calculate the spectrogram with a rectangular window function\n",
    "freq, time, power_spec = signal.spectrogram(fn, sample_rate, nperseg=nperseg, window='boxcar', noverlap=0)\n",
    "\n",
    "# Plot the spectrogram\n",
    "plt.figure(figsize=(8,6))\n",
    "plt.pcolormesh(time, freq, np.log10(power_spec), vmin=-7.5, vmax=-4.5)\n",
    "plt.ylabel('Frequency [Hz]')\n",
    "plt.xlabel('Time [sec]')\n",
    "plt.ylim([200, 2500])\n",
    "plt.title('Flute F-major scale with Rectangular Window')\n",
    "plt.show()\n"
   ]
  },
  {
   "cell_type": "markdown",
   "metadata": {},
   "source": [
    "### <font color=#46769B>Part (b) </font>\n",
    "\n",
    "Write *your own code* to generate the same spectrogram plot as above (for the Hann window function) *without* using `scipy.signal.spectrogram`. \n",
    "\n",
    "*Do not* use the brute force method for calculating the DFT. Running that code will take a long time (I tried it). \n",
    "\n",
    "*Instead* use the following approach:\n",
    "\n",
    "- Divide your time series samples `fn` into 256 segments, each of length $M=4800$.\n",
    "\n",
    "- For each segment, calculate the power spectrum using the built-in function `scipy.signal.periodogram`, documented [here](https://docs.scipy.org/doc/scipy/reference/generated/scipy.signal.periodogram.html).\n",
    "\n",
    "- Loop over all segments and put all the power-spectra together in a 2D array. You will also have to calculate the mean time for each segment, as well as the corresponding Fourier frequencies for a segment. (Note that the frequencies are the same for each segment since each segment has the same number of samples and the same sampling frequency.)\n",
    "\n",
    "- Make a plot, which should agree with the one shown above."
   ]
  },
  {
   "cell_type": "code",
   "execution_count": 4,
   "metadata": {},
   "outputs": [],
   "source": [
    "import numpy as np\n",
    "import matplotlib.pyplot as plt\n",
    "from scipy import signal\n",
    "import urllib.request\n",
    "import soundfile\n",
    "\n",
    "# Load the sound file\n",
    "path = \"https://github.com/PHYS-2030-Computational-Methods/Lecture-notes/blob/main/data/flute-f-major.wav?raw=true\"\n",
    "tmp_file = urllib.request.urlretrieve(path)[0]\n",
    "data, sample_rate = soundfile.read(tmp_file)\n",
    "\n",
    "# Variables\n",
    "fn = data\n",
    "N = len(fn)  # Total number of samples\n",
    "Q = 256  # Number of segments\n",
    "M = N // Q  # Number of samples per segment\n",
    "\n",
    "# Pre-allocate arrays for the spectrogram data\n",
    "power_spectra = np.zeros((M // 2 + 1, Q))  # +1 because periodogram returns M//2+1 frequencies\n",
    "segment_times = np.zeros(Q)\n",
    "\n",
    "# Calculate the spectrogram\n",
    "for q in range(Q):\n",
    "    segment = fn[q * M:(q + 1) * M]  # Extract segment\n",
    "    freq, Pxx = signal.periodogram(segment, sample_rate, 'hann', scaling='spectrum', nfft=M)\n",
    "    power_spectra[:, q] = Pxx\n",
    "    segment_times[q] = (q + 0.5) * M / sample_rate  # Mean time of the segment\n",
    "\n",
    "# Plotting\n",
    "plt.figure(figsize=(8, 6))\n",
    "plt.pcolormesh(segment_times, freq, np.log10(power_spectra), vmin=-7.5, vmax=-4.5)\n",
    "plt.ylabel('Frequency [Hz]')\n",
    "plt.xlabel('Time [sec]')\n",
    "plt.ylim([200, 2500])\n",
    "plt.title('Flute F-major scale with Hann Window')\n",
    "plt.show()\n",
    "\n"
   ]
  },
  {
   "cell_type": "markdown",
   "metadata": {},
   "source": [
    "## <font color=#46769B>Problem 2: Filtering</font>\n",
    "\n",
    "### <font color=#46769B>Introduction</font>\n",
    "\n",
    "The original motivation for DFT followed from Fourier series for a continuous function $f(t)$ (defined over the interval $0 \\le t < T$):\n",
    "\n",
    "$$f(t) = \\sum_{k=-\\infty}^\\infty c_k e^{i \\omega_k t} \\qquad {\\rm (1a)}  $$\n",
    "\n",
    "$$c_k = \\frac{1}{T} \\int_0^T dt \\, f(t) \\, e^{-i \\omega_k t} \\qquad {\\rm (1b)}$$\n",
    "\n",
    "where $\\omega_k = 2\\pi k/T$. These expressions represent operations where one can convert from the time domain, $f(t)$, to the frequency domain, $c_k$, and vice-versa. Next, we considered how these results could be applied to numerical signals, where the function $f(t)$ is only known by its samples $f_n = f(t_n)$ at discrete (and evenly-spaced) sampling times $t_n$. \n",
    "\n",
    "In this case, Eq. (1b) becomes the Dicrete Fourier Transform (DFT)\n",
    "\n",
    "$$c_k = \\frac{1}{N} \\sum_{n=0}^{N-1} f_n \\, e^{- 2\\pi i k n/N} \\qquad {\\rm (2)}$$ \n",
    "\n",
    "for converting time-domain signals into Fourier coefficients in the frequency domain. However, we also have an operation for going the other direction, i.e., for converting the frequency-domain Fourier coefficients to samples $f_n$ in the time domain. This follows from Eq. (1a), taking $t = t_n = n h$. We have the __Inverse Discrete Fourier Transform__ (IDFT):\n",
    "\n",
    "$$f_n = \\sum_{k=0}^{N-1} c_k \\, e^{2\\pi i k n/N} \\qquad {\\rm (3)}$$\n",
    "\n",
    "Note that the sum now only covers the values of $k = 0, ..., N-1$ due to the periodicity of the Fourier coefficients $c_k$. Eqs. (3) and (2) are the discrete analogs of Eqs. (1). One can prove mathematically that the subsequent operations of DFT then IDFT yield back the original samples, but we do not prove it here.\n",
    "\n",
    "We can implement a (slow) brute force approach for calculating the IDFT as follows:\n",
    "```py\n",
    "def IDFT(ck):\n",
    "    # Calculate N automatically from number of samples\n",
    "    N = len(ck)\n",
    "    \n",
    "    # Initialize empty array to save samples fn\n",
    "    # Note want fn to be complex in general and we need to tell numpy this explicitly up front\n",
    "    fn = np.zeros(N,dtype = 'complex')\n",
    "    \n",
    "    # Need to define values k = [0,1,2,...,N-1]\n",
    "    k = np.array(range(N))\n",
    "        \n",
    "    # Calculate coefficients fn by looping through n\n",
    "    for n in range(N):\n",
    "\n",
    "        # Note fn and n are numpy arrays, so we are calculating \n",
    "        # all N terms at once and then summing over them\n",
    "        fn[n] = np.sum( ck * np.exp(2j*np.pi*k*n/N) ) \n",
    "        \n",
    "    return fn\n",
    "```\n",
    "The algorithm is nearly identical to that for the DFT, so it may not surprise you that there is an FFT implementation of the IDFT as well. This is done in `scipy.fft.ifft()` (see documentation [here](https://docs.scipy.org/doc/scipy/reference/generated/scipy.fft.ifft.html)). This function can be called as `fft.ifft(ck,norm='forward')`, where as discussed in Lesson 11 we need an extra keyword `norm=forward` to agree with our conventions. (Also we need the import statement `from scipy import fft` beforehand.)\n",
    "\n",
    "The idea of __signal processing__ is that we can apply a tranformation of some kind *before* applying the DFT or IDFT. Two types of transformations are:\n",
    "\n",
    "- __Windowing__: We take our samples $f_n$ and apply a window function $w_n$ of some kind before taking the DFT. That is, we take the DFT of the product `fn*wn`. Short-time Fourier Transform is also a form of windowing, i.e., selecting out a subset of the full interval of the data is akin to applying a window function that is nonzero only over that subinterval.\n",
    "\n",
    "- __Filtering__: We take our Fourier coefficients $c_k$ and apply a transformation $g_k$ before taking the IDFT. That is, we take the IDFT of the product `ck*gk` instead of `ck` by itself. The quantity $g_k$ represents the __gain__ of a filter, which depends on the Fourier mode $k$ and therefore is a function of frequency $\\nu_k$. The goal of filtering is to eliminate some frequencies from the data (e.g., due to background noise) and leave only the frequencies of the signal of interest.\n",
    "\n",
    "In this Exercise, we will consider filtering. There are different types of filters:\n",
    "\n",
    "- __High-pass filter__: Allows only frequencies satisfying $|\\nu_k| > \\nu_{\\rm min}$.\n",
    "\n",
    "- __Low-pass filter__: Allows only frequencies satisfying $|\\nu_k| < \\nu_{\\rm max}$.\n",
    "\n",
    "- __Bandpass filter__: Allows only frequencies within a given range (band), satisfying $\\nu_{\\rm min} < |\\nu_k| < \\nu_{\\rm max}$.\n",
    "\n",
    "- __Bandstop filter__ (also known as a __notch filter__): *Excludes* frequencies in a given range between $\\nu_{\\rm min} - \\nu_{\\rm max}$, that is, by allowing only frequencies satisfying $|\\nu_k| < \\nu_{\\rm min}$ *or* $|\\nu_k| > \\nu_{\\rm max}$. This is useful when there is a background signal at a particular frequency.\n",
    "\n",
    "We will only consider __ideal filters__. The basic idea is that you set Fourier coefficients $c_k$ to zero if the corresponding frequency $\\nu_k$ is one that you wish to exclude from the data. That is, \n",
    "\n",
    "$$g_k = \\left\\{ \\begin{array}{cc} 1 & {\\rm some \\; condition \\; is \\; satisfied} \\\\ 0 & {\\rm otherwise} \\end{array}\\right.$$\n",
    "\n",
    "As an example, a high-pass filter allowing only frequencies above 100 could be implemented by the following code\n",
    "```py\n",
    "# Usual steps of calculating Fourier coefficients and frequencies\n",
    "ck = DFT(fn)\n",
    "nu_k = np.where( k < N/2, k*nu_s/N, (N-k)*nu_s/N )\n",
    "\n",
    "# Calculate gain \n",
    "nu_min = 100\n",
    "gk = np.where( np.abs(nu_k) > nu_min, 1, 0)\n",
    "\n",
    "# Inverse DFT\n",
    "fn_filt = IDFT(ck*gk)\n",
    "```\n",
    "Note that this only works if one defines the frequencies $\\nu_k$ with the convention including positive and negative frequencies, so be sure to do that.\n",
    "\n",
    "In this Problem, you will consider three ideal filters acting on your time-series data from Problem 1. In each case, you will generate a new sound file after applying your filter. Take a listen to see how your signal processing affects the sound in each case."
   ]
  },
  {
   "cell_type": "markdown",
   "metadata": {},
   "source": [
    "### <font color=#46769B>Part (a)</font>\n",
    "\n",
    "Taking the same time series data from Problem 1, your task is as follows:\n",
    "\n",
    "- Take the DFT of these samples `fn` to obtain the Fourier coefficients `ck`.\n",
    "\n",
    "- Apply an ideal low-pass filter to retain frequencies $|\\nu_k| < 650 \\; {\\rm Hz}$.\n",
    "\n",
    "- Apply the IDFT to the filtered Fourier coefficients to obtain a new time series of samples, `fn_filt`.\n",
    "\n",
    "- Use the following line of code\n",
    "```py\n",
    "soundfile.write('lowpass.wav', fn_filt, sample_rate)\n",
    "```\n",
    "to generate a new sound file with only low frequencies.\n",
    "\n",
    "Note: You *do not* need to save your sound files in your Github repository. They will be automatically generated by the TA when grading your exercise.\n"
   ]
  },
  {
   "cell_type": "code",
   "execution_count": 5,
   "metadata": {},
   "outputs": [],
   "source": [
    "# Your code for Part (a)"
   ]
  },
  {
   "cell_type": "markdown",
   "metadata": {},
   "source": [
    "## <font color=#46769B>Part (b)</font>\n",
    "\n",
    "Repeat Part (a) with an ideal high-pass filter, retaining frequencies $|\\nu_k| > 1200 \\; {\\rm Hz}$. Use the following line of code\n",
    "```py\n",
    "soundfile.write('highpass.wav', fn_filt, sample_rate)\n",
    "```\n",
    "to generate a new sound file with only high frequencies."
   ]
  },
  {
   "cell_type": "code",
   "execution_count": 6,
   "metadata": {},
   "outputs": [],
   "source": [
    "# Your code here"
   ]
  },
  {
   "cell_type": "markdown",
   "metadata": {},
   "source": [
    "## <font color=#46769B>Part (c)</font>\n",
    "\n",
    "Repeat the steps Part (a) and (b) with a bandpass filter, retaining frequencies $650 \\; {\\rm Hz} < |\\nu_k| < 1200 \\; {\\rm Hz}$. \n",
    "\n",
    "Use the following line of code\n",
    "```py\n",
    "soundfile.write('bandpass.wav', fn_filt, sample_rate)\n",
    "```\n",
    "to generate a new sound file with only medium frequencies."
   ]
  },
  {
   "cell_type": "code",
   "execution_count": 7,
   "metadata": {},
   "outputs": [],
   "source": [
    "# Your code here"
   ]
  }
 ],
 "metadata": {
  "kernelspec": {
   "display_name": "Python 3 (ipykernel)",
   "language": "python",
   "name": "python3"
  },
  "language_info": {
   "codemirror_mode": {
    "name": "ipython",
    "version": 3
   },
   "file_extension": ".py",
   "mimetype": "text/x-python",
   "name": "python",
   "nbconvert_exporter": "python",
   "pygments_lexer": "ipython3",
   "version": "3.11.5"
  }
 },
 "nbformat": 4,
 "nbformat_minor": 4
}
